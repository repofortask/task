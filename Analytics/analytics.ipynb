{
 "cells": [
  {
   "cell_type": "markdown",
   "metadata": {},
   "source": [
    "# Import moduls"
   ]
  },
  {
   "cell_type": "code",
   "execution_count": null,
   "metadata": {},
   "outputs": [],
   "source": [
    "import pandas as pd\n",
    "import os \n",
    "import psycopg2\n",
    "HOST = os.environ.get('HOST_DB')\n"
   ]
  },
  {
   "cell_type": "markdown",
   "metadata": {},
   "source": [
    "# Creacte DataFrames and connections"
   ]
  },
  {
   "cell_type": "code",
   "execution_count": null,
   "metadata": {},
   "outputs": [],
   "source": [
    "conn = psycopg2.connect(\n",
    "            host=HOST,\n",
    "            database=\"root\",\n",
    "            user=\"root\",\n",
    "            password=\"root\")\n",
    "df_movies = pd.read_sql(\"SELECT * FROM movies\", conn, index_col='movie_id')\n",
    "new_df_movies = pd.read_sql(\"SELECT * FROM movies\", conn)\n",
    "df_ratings = pd.read_sql(\"SELECT * FROM ratings\", conn)"
   ]
  },
  {
   "cell_type": "markdown",
   "metadata": {},
   "source": [
    "# a. How many movies are in data set?"
   ]
  },
  {
   "cell_type": "code",
   "execution_count": null,
   "metadata": {},
   "outputs": [],
   "source": [
    "cur = conn.cursor()\n",
    "cur.execute('SELECT COUNT(*) from movies')\n",
    "db_version = cur.fetchone()\n",
    "print('How many movies are in data set? ->', db_version[0])"
   ]
  },
  {
   "cell_type": "markdown",
   "metadata": {},
   "source": [
    "# b. What is the most common genre of movie?"
   ]
  },
  {
   "cell_type": "code",
   "execution_count": null,
   "metadata": {},
   "outputs": [],
   "source": [
    "list_with_genres = df_movies['genres'].values.tolist()\n",
    "count_dict = {}\n",
    "for element in list_with_genres:\n",
    "    for i in element.split('|'):\n",
    "        if i in count_dict:\n",
    "            count_dict[i] += 1\n",
    "        else:\n",
    "            count_dict[i] = 0\n",
    "print('What is the most common genre of movie? ->', max(count_dict, key=count_dict.get))"
   ]
  },
  {
   "cell_type": "markdown",
   "metadata": {},
   "source": [
    "# c. What are top 10 movies with highest rate?"
   ]
  },
  {
   "cell_type": "code",
   "execution_count": null,
   "metadata": {},
   "outputs": [],
   "source": [
    "df_ratings = pd.read_sql(\"SELECT * FROM ratings\", conn)\n",
    "list_with_ratings = df_ratings.groupby(['movie_id']).sum().loc[:, 'rating']/df_ratings.groupby(['movie_id']).count().loc[:,'user_id']\n",
    "list_with_movie_id_with_ratings = list_with_ratings.sort_values(ascending=False).head(10).index.values.tolist()\n",
    "print('What are top 10 movies with highest rate? ->',new_df_movies.loc[new_df_movies.movie_id.isin(list_with_movie_id_with_ratings)])"
   ]
  },
  {
   "cell_type": "markdown",
   "metadata": {},
   "source": [
    "# d. What are 5 most often rating users?\n"
   ]
  },
  {
   "cell_type": "code",
   "execution_count": null,
   "metadata": {},
   "outputs": [],
   "source": [
    "top_5_users = df_ratings.groupby(['user_id']).count().sort_values(by='rating', ascending=False).head(5).index.values \n",
    "print('What are 5 most often rating users? ->', top_5_users)"
   ]
  },
  {
   "cell_type": "markdown",
   "metadata": {},
   "source": [
    "# e. When was done first and last rate included in data set and what was the rated movie tittle?\n"
   ]
  },
  {
   "cell_type": "code",
   "execution_count": null,
   "metadata": {},
   "outputs": [],
   "source": [
    "df_ratings['timestamp'] = pd.to_datetime(df_ratings['timestamp'],unit='s')\n",
    "movie_id_of_first_rating = df_ratings.sort_values(by='timestamp').head(1)['movie_id'].values[0]\n",
    "timestamp_of_first_rating = df_ratings.sort_values(by='timestamp').head(1)['timestamp'].values[0]\n",
    "movie_id_of_last_rating = df_ratings.sort_values(by='timestamp', ascending=False).head(1)['movie_id'].values[0]\n",
    "timestamp_of_last_rating = df_ratings.sort_values(by='timestamp', ascending=False).head(1)['timestamp'].values[0]\n",
    "print('When was done first rate included in data set and what was the rated movie tittle ->', timestamp_of_first_rating, df_movies.iloc[movie_id_of_first_rating, 0])\n",
    "print('When was done last rate included in data set and what was the rated movie tittle ->', timestamp_of_last_rating, df_movies.iloc[movie_id_of_last_rating, 0])"
   ]
  },
  {
   "cell_type": "markdown",
   "metadata": {},
   "source": [
    "# f. Find all movies released in 1990\n"
   ]
  },
  {
   "cell_type": "code",
   "execution_count": null,
   "metadata": {},
   "outputs": [],
   "source": [
    "all_movies_with_release_in_1990 = []\n",
    "all_movies = df_movies['title'].values.tolist()\n",
    "for movie in all_movies:\n",
    "    try:\n",
    "        if int(movie.split(' ')[-1].replace('(', '').replace(')', '')) == 1990:\n",
    "            all_movies_with_release_in_1990.append(movie)\n",
    "            print('movie released in 1990 ->', movie)\n",
    "    except ValueError:\n",
    "        pass\n",
    "# print(all_movies_with_release_in_1990)"
   ]
  }
 ],
 "metadata": {
  "interpreter": {
   "hash": "d1c123eca58cb7d0afbeb92af163ea911501e6c392515939266921d42454dabc"
  },
  "kernelspec": {
   "display_name": "Python 3",
   "language": "python",
   "name": "python3"
  },
  "language_info": {
   "codemirror_mode": {
    "name": "ipython",
    "version": 3
   },
   "file_extension": ".py",
   "mimetype": "text/x-python",
   "name": "python",
   "nbconvert_exporter": "python",
   "pygments_lexer": "ipython3",
   "version": "3.9.1"
  },
  "orig_nbformat": 4
 },
 "nbformat": 4,
 "nbformat_minor": 2
}
